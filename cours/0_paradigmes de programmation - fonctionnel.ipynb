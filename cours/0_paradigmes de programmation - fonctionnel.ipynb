{
 "cells": [
  {
   "cell_type": "markdown",
   "id": "dental-croatia",
   "metadata": {},
   "source": [
    "# Paradigmes de programmation\n",
    "Nous allons revoir des paradigmes déjà rencontrés, avant d'approfondir le paradigme fonctionnel et de faire un peu de debug.\n",
    "\n",
    "## Résumé\n",
    "Le paradigme fonctionnel implique des fonctions. Pour simplifier, nous pourrions dire que paradigme fonctionnel = fonctions et uniquement des fonctions.\n",
    "L'objectif, en réalité, est de réduire au maximum les effets de bord, c'est-à-dire la modification des états d'une variable au fil de l'exécution, mais nous pouvons faire des affectations.\n",
    "\n",
    "Dans l'exemple ci-après, nous pouvons remarquer qu'il y a deux affectations initiales que sont `i = 0` et `lst = 0`."
   ]
  },
  {
   "cell_type": "code",
   "execution_count": 1,
   "id": "respected-outdoors",
   "metadata": {},
   "outputs": [
    {
     "data": {
      "text/plain": [
       "[0, 1, 2, 3, 4, 5, 6, 7, 8, 9]"
      ]
     },
     "execution_count": 1,
     "metadata": {},
     "output_type": "execute_result"
    }
   ],
   "source": [
    "def loop(n, i = 0, lst = []):\n",
    "    if n <= i:\n",
    "        return lst\n",
    "    return loop(n, i + 1, lst + [i])\n",
    "\n",
    "loop(10)"
   ]
  },
  {
   "cell_type": "code",
   "execution_count": 2,
   "id": "framed-amber",
   "metadata": {},
   "outputs": [
    {
     "data": {
      "text/plain": [
       "[0, 1, 2, 3, 4, 5, 6, 7, 8, 9]"
      ]
     },
     "execution_count": 2,
     "metadata": {},
     "output_type": "execute_result"
    }
   ],
   "source": [
    "# Une autre version, où il n'y a pas d'affectation.\n",
    "\n",
    "def i_0():\n",
    "    return 0\n",
    "\n",
    "def l_0():\n",
    "    return list()\n",
    "\n",
    "def inc(i):\n",
    "    return i + 1\n",
    "\n",
    "def append(lst, e):\n",
    "    return lst + [e]\n",
    "\n",
    "def loop(n, i, lst):\n",
    "    if n <= i:\n",
    "        return lst\n",
    "    return loop(n, inc(i), append(lst, i))\n",
    "\n",
    "loop(10, i_0(), l_0())"
   ]
  },
  {
   "cell_type": "markdown",
   "id": "designed-xerox",
   "metadata": {},
   "source": [
    "## Effet de bord\n",
    "Voyons un exemple avec un effet de bord problématique :"
   ]
  },
  {
   "cell_type": "code",
   "execution_count": 3,
   "id": "permanent-authorization",
   "metadata": {},
   "outputs": [
    {
     "name": "stdout",
     "output_type": "stream",
     "text": [
      "Alice\n"
     ]
    },
    {
     "ename": "IndexError",
     "evalue": "list index out of range",
     "output_type": "error",
     "traceback": [
      "\u001b[0;31m---------------------------------------------------------------------------\u001b[0m",
      "\u001b[0;31mIndexError\u001b[0m                                Traceback (most recent call last)",
      "\u001b[0;32m<ipython-input-3-5a987ec280f6>\u001b[0m in \u001b[0;36m<module>\u001b[0;34m\u001b[0m\n\u001b[1;32m      3\u001b[0m \u001b[0;32mfor\u001b[0m \u001b[0mi\u001b[0m \u001b[0;32min\u001b[0m \u001b[0mrange\u001b[0m\u001b[0;34m(\u001b[0m\u001b[0mlen\u001b[0m\u001b[0;34m(\u001b[0m\u001b[0mprenoms\u001b[0m\u001b[0;34m)\u001b[0m\u001b[0;34m)\u001b[0m\u001b[0;34m:\u001b[0m\u001b[0;34m\u001b[0m\u001b[0;34m\u001b[0m\u001b[0m\n\u001b[1;32m      4\u001b[0m     \u001b[0mprenoms\u001b[0m\u001b[0;34m.\u001b[0m\u001b[0mpop\u001b[0m\u001b[0;34m(\u001b[0m\u001b[0;34m)\u001b[0m\u001b[0;34m\u001b[0m\u001b[0;34m\u001b[0m\u001b[0m\n\u001b[0;32m----> 5\u001b[0;31m     \u001b[0mprint\u001b[0m\u001b[0;34m(\u001b[0m\u001b[0mprenoms\u001b[0m\u001b[0;34m[\u001b[0m\u001b[0mi\u001b[0m\u001b[0;34m]\u001b[0m\u001b[0;34m)\u001b[0m\u001b[0;34m\u001b[0m\u001b[0;34m\u001b[0m\u001b[0m\n\u001b[0m",
      "\u001b[0;31mIndexError\u001b[0m: list index out of range"
     ]
    }
   ],
   "source": [
    "prenoms = [\"Alice\", \"Bob\", \"Charlie\"]\n",
    "\n",
    "for i in range(len(prenoms)):\n",
    "    prenoms.pop()\n",
    "    print(prenoms[i])"
   ]
  },
  {
   "cell_type": "markdown",
   "id": "painful-reaction",
   "metadata": {},
   "source": [
    "> Nous avons modifié l'état de prénoms pendant l'exécution, alors que nous avions basé notre parcours sur la longeur de la liste : la longueur ayant diminué, alors le programme plante."
   ]
  },
  {
   "cell_type": "markdown",
   "id": "overall-police",
   "metadata": {},
   "source": [
    "## Exemple impératif\n",
    "### Prénoms\n",
    "Nous pourrons remarquer que l'itérateur (l'objet qui permet d'itérer sur un autre objet) est mis à jour."
   ]
  },
  {
   "cell_type": "code",
   "execution_count": null,
   "id": "comparative-utility",
   "metadata": {},
   "outputs": [],
   "source": [
    "prenoms = [\"Alice\", \"Bob\", \"Charlie\"]\n",
    "\n",
    "for p in prenoms:\n",
    "    prenoms.pop()\n",
    "    print(p)"
   ]
  },
  {
   "cell_type": "markdown",
   "id": "robust-dimension",
   "metadata": {},
   "source": [
    "### Somme\n",
    "Mais voyons un autre exemple, avec la somme des entiers dans une liste."
   ]
  },
  {
   "cell_type": "code",
   "execution_count": 6,
   "id": "exempt-hypothetical",
   "metadata": {},
   "outputs": [
    {
     "name": "stdout",
     "output_type": "stream",
     "text": [
      "45\n"
     ]
    }
   ],
   "source": [
    "li_int = [i for i in range(10)]\n",
    "\n",
    "accu = 0\n",
    "# TODO\n",
    "\n",
    "print(accu)"
   ]
  },
  {
   "cell_type": "markdown",
   "id": "smooth-rebecca",
   "metadata": {},
   "source": [
    "## Exemple fonctionnel"
   ]
  },
  {
   "cell_type": "markdown",
   "id": "american-cassette",
   "metadata": {},
   "source": [
    "### Somme"
   ]
  },
  {
   "cell_type": "code",
   "execution_count": 7,
   "id": "international-village",
   "metadata": {},
   "outputs": [
    {
     "name": "stdout",
     "output_type": "stream",
     "text": [
      "45\n"
     ]
    }
   ],
   "source": [
    "import functools as f\n",
    "\n",
    "# Nous ajoutons les retours à la ligne pour la lisibilité.\n",
    "print(\n",
    "    f.reduce(\n",
    "        lambda accu, x:\n",
    "            accu + x,\n",
    "        li_int\n",
    "    )\n",
    ")\n",
    "\n",
    "# Ou\n",
    "def somme(li_int, accu = 0):\n",
    "    if not li_int:  # Si li_int = [], alors retourne None => if li_int\n",
    "        return somme(\n",
    "            li_int,\n",
    "            accu + li_int.pop()\n",
    "        )\n",
    "somme(li_int)"
   ]
  },
  {
   "cell_type": "markdown",
   "id": "atlantic-office",
   "metadata": {},
   "source": [
    "> Sur une feuille, déroulons l'exécution des deux fonctions. Nous pourrons nous aider de l'aide pour reduce : `help(f.reduce)`"
   ]
  },
  {
   "cell_type": "markdown",
   "id": "innocent-walter",
   "metadata": {},
   "source": [
    "### Prénoms\n",
    "Comment afficher les prénoms en utilisant uniquement des fonctions ?\n",
    "Une première piste est d'utiliser la récursivité et la fonction pop. Quelle critique pouvons-nous faire de la méthode utilisant pop ? Comment corriger cela ?"
   ]
  },
  {
   "cell_type": "code",
   "execution_count": 3,
   "id": "positive-simulation",
   "metadata": {},
   "outputs": [
    {
     "name": "stdout",
     "output_type": "stream",
     "text": [
      "Charlie\n",
      "Bob\n",
      "Alice\n"
     ]
    }
   ],
   "source": [
    "prenoms = [\"Alice\", \"Bob\", \"Charlie\"]\n",
    "\n",
    "def fonc_prenoms(li_prenoms):\n",
    "    pass #TODO"
   ]
  },
  {
   "cell_type": "code",
   "execution_count": 1,
   "id": "crucial-setup",
   "metadata": {},
   "outputs": [],
   "source": [
    "# cellule pour corriger l'appel de fonc_prenoms."
   ]
  },
  {
   "cell_type": "markdown",
   "id": "visible-appendix",
   "metadata": {},
   "source": [
    "## Mise en pratique\n",
    "### Fibonacci\n",
    "#### Impératif"
   ]
  },
  {
   "cell_type": "code",
   "execution_count": null,
   "id": "fitted-bench",
   "metadata": {},
   "outputs": [],
   "source": [
    "def imperatif_fibo(n):\n",
    "    # TODO\n",
    "    pass\n",
    "\n",
    "imperatif_fibo(8)"
   ]
  },
  {
   "cell_type": "markdown",
   "id": "handmade-tanzania",
   "metadata": {},
   "source": [
    "#### Fonctionnel"
   ]
  },
  {
   "cell_type": "code",
   "execution_count": null,
   "id": "developing-german",
   "metadata": {},
   "outputs": [],
   "source": [
    "def fonc_fibo(n):\n",
    "    # TODO\n",
    "    pass\n",
    "\n",
    "fonc_fibo(8)"
   ]
  },
  {
   "cell_type": "markdown",
   "id": "quick-hardware",
   "metadata": {},
   "source": [
    "> Quel est le paradigme le plus adapté pour calculer Fibonacci ? Pourquoi ?"
   ]
  },
  {
   "cell_type": "markdown",
   "id": "listed-ground",
   "metadata": {},
   "source": [
    "#### recursivité terminale\n",
    "Dont voici un exemple :"
   ]
  },
  {
   "cell_type": "code",
   "execution_count": null,
   "id": "wicked-insulation",
   "metadata": {},
   "outputs": [],
   "source": [
    "def term_somme(n, accu = 0):\n",
    "    if n <= 0: return accu\n",
    "    return term_somme(n - 1, accu + n)\n",
    "term_somme(9)"
   ]
  },
  {
   "cell_type": "markdown",
   "id": "varying-excerpt",
   "metadata": {},
   "source": [
    "> Comparons term_somme et somme dans l'exemple fonctionnel. Que pouvons-nous dire ? Quel est le vrai soucis entre ces deux appels ?"
   ]
  },
  {
   "cell_type": "markdown",
   "id": "pharmaceutical-czech",
   "metadata": {},
   "source": [
    "## Ce qu'il faut retenir\n",
    "En paradigme fonctionnel, nous utilisons surtout des fonctions.\n",
    "Nous pouvons utiliser des affectations, mais il y a un risque d'effet de bord.\n",
    "\n",
    "Le paradigme impératif est souvent \"implicite\", car nous donnons des ordres, mais cela peut se structurer différemment selon l'objectif. L'objet rapproche les données et les méthodes (fonctions au sein d'une classe). Le fonctionnel limite les effets de bord.\n",
    "\n",
    "## Pour aller plus loin"
   ]
  },
  {
   "cell_type": "code",
   "execution_count": 8,
   "id": "established-single",
   "metadata": {},
   "outputs": [
    {
     "name": "stdout",
     "output_type": "stream",
     "text": [
      "[0, 1]\n"
     ]
    }
   ],
   "source": [
    "# Pour aller plus loin, nous pouvons réécrire une fonction de tri par sélection en paradigme fonctionnel.\n",
    "# L'ajout d'un critère de tri nécessite une fonction intermédiaire qu'il faudra passer en paramètre.\n",
    "# Voici un exemple de fonction intermédiaire :\n",
    "\n",
    "def gt(a, b): # greater than\n",
    "    return a > b\n",
    "\n",
    "def echanger_plus_grand(f, li_int):\n",
    "    if f(li_int[0], li_int[1]):\n",
    "        li_int[0], li_int[1] = li_int[1], li_int[0]\n",
    "\n",
    "li_int = [1, 0]\n",
    "echanger_plus_grand(gt, li_int)\n",
    "print(li_int)"
   ]
  }
 ],
 "metadata": {
  "kernelspec": {
   "display_name": "Python 3",
   "language": "python",
   "name": "python3"
  },
  "language_info": {
   "codemirror_mode": {
    "name": "ipython",
    "version": 3
   },
   "file_extension": ".py",
   "mimetype": "text/x-python",
   "name": "python",
   "nbconvert_exporter": "python",
   "pygments_lexer": "ipython3",
   "version": "3.9.2"
  }
 },
 "nbformat": 4,
 "nbformat_minor": 5
}
